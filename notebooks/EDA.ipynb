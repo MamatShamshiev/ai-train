{
 "cells": [
  {
   "cell_type": "code",
   "execution_count": 1,
   "id": "a112aff4",
   "metadata": {},
   "outputs": [],
   "source": [
    "import numpy as np\n",
    "import os\n",
    "import json\n",
    "import cv2\n",
    "import random\n",
    "import sys\n",
    "import matplotlib.pyplot as plt\n",
    "\n",
    "import detectron2\n",
    "from detectron2.utils.visualizer import Visualizer\n",
    "from detectron2.data import MetadataCatalog, DatasetCatalog\n",
    "from detectron2.data.datasets import register_coco_instances\n",
    "\n",
    "sys.path.append(\"../src\")\n",
    "from defs import RAW_DATA_PATH"
   ]
  },
  {
   "cell_type": "code",
   "execution_count": 2,
   "id": "8d413e43",
   "metadata": {},
   "outputs": [],
   "source": [
    "from detectron2.data.datasets import load_coco_json, load_sem_seg\n",
    "from detectron2.data.datasets.coco_panoptic import merge_to_panoptic\n",
    "\n",
    "def register_coco_panoptic_separated(\n",
    "    name, metadata, image_root, panoptic_root, panoptic_json, sem_seg_root, instances_json\n",
    "):\n",
    "    \"\"\"\n",
    "    Register a \"separated\" version of COCO panoptic segmentation dataset named `name`.\n",
    "    The annotations in this registered dataset will contain both instance annotations and\n",
    "    semantic annotations, each with its own contiguous ids. Hence it's called \"separated\".\n",
    "    It follows the setting used by the PanopticFPN paper:\n",
    "    1. The instance annotations directly come from polygons in the COCO\n",
    "       instances annotation task, rather than from the masks in the COCO panoptic annotations.\n",
    "       The two format have small differences:\n",
    "       Polygons in the instance annotations may have overlaps.\n",
    "       The mask annotations are produced by labeling the overlapped polygons\n",
    "       with depth ordering.\n",
    "    2. The semantic annotations are converted from panoptic annotations, where\n",
    "       all \"things\" are assigned a semantic id of 0.\n",
    "       All semantic categories will therefore have ids in contiguous\n",
    "       range [1, #stuff_categories].\n",
    "    This function will also register a pure semantic segmentation dataset\n",
    "    named ``name + '_stuffonly'``.\n",
    "    Args:\n",
    "        name (str): the name that identifies a dataset,\n",
    "            e.g. \"coco_2017_train_panoptic\"\n",
    "        metadata (dict): extra metadata associated with this dataset.\n",
    "        image_root (str): directory which contains all the images\n",
    "        panoptic_root (str): directory which contains panoptic annotation images\n",
    "        panoptic_json (str): path to the json panoptic annotation file\n",
    "        sem_seg_root (str): directory which contains all the ground truth segmentation annotations.\n",
    "        instances_json (str): path to the json instance annotation file\n",
    "    \"\"\"\n",
    "    panoptic_name = name + \"_separated\"\n",
    "    DatasetCatalog.register(\n",
    "        panoptic_name,\n",
    "        lambda: merge_to_panoptic(\n",
    "            load_coco_json(instances_json, image_root, panoptic_name),\n",
    "            load_sem_seg(sem_seg_root, image_root, image_ext=\"png\"),\n",
    "        ),\n",
    "    )\n",
    "    MetadataCatalog.get(panoptic_name).set(\n",
    "        panoptic_root=panoptic_root,\n",
    "        image_root=image_root,\n",
    "        panoptic_json=panoptic_json,\n",
    "        sem_seg_root=sem_seg_root,\n",
    "        json_file=instances_json,  # TODO rename\n",
    "        evaluator_type=\"coco_panoptic_seg\",\n",
    "        ignore_label=255,\n",
    "        **metadata,\n",
    "    )\n",
    "\n",
    "    semantic_name = name + \"_stuffonly\"\n",
    "    DatasetCatalog.register(semantic_name, lambda: load_sem_seg(sem_seg_root, image_root))\n",
    "    MetadataCatalog.get(semantic_name).set(\n",
    "        sem_seg_root=sem_seg_root,\n",
    "        image_root=image_root,\n",
    "        evaluator_type=\"sem_seg\",\n",
    "        ignore_label=255,\n",
    "        **metadata,\n",
    "    )"
   ]
  },
  {
   "cell_type": "code",
   "execution_count": 3,
   "id": "437cb1b7",
   "metadata": {},
   "outputs": [],
   "source": [
    "#register_coco_instances(\"train-dataset\", {}, RAW_DATA_PATH / \"detection_coco.json\", RAW_DATA_PATH / \"images\")\n",
    "register_coco_panoptic_separated(\"train-dataset\", {}, RAW_DATA_PATH / \"images\", RAW_DATA_PATH / \"images\", \n",
    "                                 \"/tmp/placeholder/\", RAW_DATA_PATH / \"masks\", RAW_DATA_PATH / \"detection_coco.json\",)"
   ]
  },
  {
   "cell_type": "code",
   "execution_count": 7,
   "id": "aac507b9",
   "metadata": {},
   "outputs": [],
   "source": [
    "dataset_name = \"train-dataset_separated\"\n",
    "metadata = MetadataCatalog.get(dataset_name)"
   ]
  },
  {
   "cell_type": "code",
   "execution_count": 10,
   "id": "038bb1ce",
   "metadata": {},
   "outputs": [
    {
     "data": {
      "text/plain": [
       "namespace(name='train-dataset_separated',\n",
       "          panoptic_root=PosixPath('/workspace/ai-train/notebooks/../data/raw/images'),\n",
       "          image_root=PosixPath('/workspace/ai-train/notebooks/../data/raw/images'),\n",
       "          panoptic_json='/tmp/placeholder/',\n",
       "          sem_seg_root=PosixPath('/workspace/ai-train/notebooks/../data/raw/masks'),\n",
       "          json_file=PosixPath('/workspace/ai-train/notebooks/../data/raw/detection_coco.json'),\n",
       "          evaluator_type='coco_panoptic_seg',\n",
       "          ignore_label=255,\n",
       "          stuff_classes=['MainRailPolygon', 'AlternativeRailPolygon', 'Train'],\n",
       "          thing_classes=['Car',\n",
       "                         'Human',\n",
       "                         'Wagon',\n",
       "                         'FacingSwitchL',\n",
       "                         'FacingSwitchR',\n",
       "                         'FacingSwitchNV',\n",
       "                         'TrailingSwitchL',\n",
       "                         'TrailingSwitchR',\n",
       "                         'TrailingSwitchNV',\n",
       "                         'SignalE',\n",
       "                         'SignalF'],\n",
       "          thing_dataset_id_to_contiguous_id={1: 0,\n",
       "                                             2: 1,\n",
       "                                             3: 2,\n",
       "                                             4: 3,\n",
       "                                             5: 4,\n",
       "                                             6: 5,\n",
       "                                             7: 6,\n",
       "                                             8: 7,\n",
       "                                             9: 8,\n",
       "                                             10: 9,\n",
       "                                             11: 10})"
      ]
     },
     "execution_count": 10,
     "metadata": {},
     "output_type": "execute_result"
    }
   ],
   "source": [
    "MetadataCatalog.get(dataset_name).set(stuff_classes=[\"MainRailPolygon\", \"AlternativeRailPolygon\", \"Train\"])"
   ]
  },
  {
   "cell_type": "code",
   "execution_count": 9,
   "id": "a6bc8865",
   "metadata": {},
   "outputs": [],
   "source": [
    "dataset_dicts = DatasetCatalog.get(dataset_name)"
   ]
  },
  {
   "cell_type": "code",
   "execution_count": 13,
   "id": "d04f0373",
   "metadata": {},
   "outputs": [
    {
     "data": {
      "text/plain": [
       "['MainRailPolygon', 'AlternativeRailPolygon', 'Train']"
      ]
     },
     "execution_count": 13,
     "metadata": {},
     "output_type": "execute_result"
    }
   ],
   "source": [
    "metadata.stuff_classes"
   ]
  },
  {
   "cell_type": "code",
   "execution_count": 14,
   "id": "12dfdd27",
   "metadata": {},
   "outputs": [
    {
     "ename": "AssertionError",
     "evalue": "mask shape: (1512, 2688, 3), target dims: 1512, 2688",
     "output_type": "error",
     "traceback": [
      "\u001b[0;31m---------------------------------------------------------------------------\u001b[0m",
      "\u001b[0;31mAssertionError\u001b[0m                            Traceback (most recent call last)",
      "\u001b[0;32m/tmp/ipykernel_1925/79013886.py\u001b[0m in \u001b[0;36m<module>\u001b[0;34m\u001b[0m\n\u001b[1;32m      2\u001b[0m     \u001b[0mimg\u001b[0m \u001b[0;34m=\u001b[0m \u001b[0mcv2\u001b[0m\u001b[0;34m.\u001b[0m\u001b[0mimread\u001b[0m\u001b[0;34m(\u001b[0m\u001b[0md\u001b[0m\u001b[0;34m[\u001b[0m\u001b[0;34m\"file_name\"\u001b[0m\u001b[0;34m]\u001b[0m\u001b[0;34m)\u001b[0m\u001b[0;34m\u001b[0m\u001b[0;34m\u001b[0m\u001b[0m\n\u001b[1;32m      3\u001b[0m     \u001b[0mvisualizer\u001b[0m \u001b[0;34m=\u001b[0m \u001b[0mVisualizer\u001b[0m\u001b[0;34m(\u001b[0m\u001b[0mimg\u001b[0m\u001b[0;34m[\u001b[0m\u001b[0;34m:\u001b[0m\u001b[0;34m,\u001b[0m \u001b[0;34m:\u001b[0m\u001b[0;34m,\u001b[0m \u001b[0;34m:\u001b[0m\u001b[0;34m:\u001b[0m\u001b[0;34m-\u001b[0m\u001b[0;36m1\u001b[0m\u001b[0;34m]\u001b[0m\u001b[0;34m,\u001b[0m \u001b[0mmetadata\u001b[0m\u001b[0;34m=\u001b[0m\u001b[0mmetadata\u001b[0m\u001b[0;34m,\u001b[0m \u001b[0mscale\u001b[0m\u001b[0;34m=\u001b[0m\u001b[0;36m1\u001b[0m\u001b[0;34m)\u001b[0m\u001b[0;34m\u001b[0m\u001b[0;34m\u001b[0m\u001b[0m\n\u001b[0;32m----> 4\u001b[0;31m     \u001b[0mout\u001b[0m \u001b[0;34m=\u001b[0m \u001b[0mvisualizer\u001b[0m\u001b[0;34m.\u001b[0m\u001b[0mdraw_dataset_dict\u001b[0m\u001b[0;34m(\u001b[0m\u001b[0md\u001b[0m\u001b[0;34m)\u001b[0m\u001b[0;34m\u001b[0m\u001b[0;34m\u001b[0m\u001b[0m\n\u001b[0m\u001b[1;32m      5\u001b[0m     \u001b[0;31m#out = visualizer.draw_sem_seg(d)\u001b[0m\u001b[0;34m\u001b[0m\u001b[0;34m\u001b[0m\u001b[0;34m\u001b[0m\u001b[0m\n\u001b[1;32m      6\u001b[0m     \u001b[0mplt\u001b[0m\u001b[0;34m.\u001b[0m\u001b[0mfigure\u001b[0m\u001b[0;34m(\u001b[0m\u001b[0mfigsize\u001b[0m\u001b[0;34m=\u001b[0m\u001b[0;34m(\u001b[0m\u001b[0;36m30\u001b[0m\u001b[0;34m,\u001b[0m \u001b[0;36m20\u001b[0m\u001b[0;34m)\u001b[0m\u001b[0;34m)\u001b[0m\u001b[0;34m\u001b[0m\u001b[0;34m\u001b[0m\u001b[0m\n",
      "\u001b[0;32m~/conda/lib/python3.7/site-packages/detectron2/utils/visualizer.py\u001b[0m in \u001b[0;36mdraw_dataset_dict\u001b[0;34m(self, dic)\u001b[0m\n\u001b[1;32m    589\u001b[0m                 \u001b[0msem_seg\u001b[0m \u001b[0;34m=\u001b[0m \u001b[0mnp\u001b[0m\u001b[0;34m.\u001b[0m\u001b[0masarray\u001b[0m\u001b[0;34m(\u001b[0m\u001b[0msem_seg\u001b[0m\u001b[0;34m,\u001b[0m \u001b[0mdtype\u001b[0m\u001b[0;34m=\u001b[0m\u001b[0;34m\"uint8\"\u001b[0m\u001b[0;34m)\u001b[0m\u001b[0;34m\u001b[0m\u001b[0;34m\u001b[0m\u001b[0m\n\u001b[1;32m    590\u001b[0m         \u001b[0;32mif\u001b[0m \u001b[0msem_seg\u001b[0m \u001b[0;32mis\u001b[0m \u001b[0;32mnot\u001b[0m \u001b[0;32mNone\u001b[0m\u001b[0;34m:\u001b[0m\u001b[0;34m\u001b[0m\u001b[0;34m\u001b[0m\u001b[0m\n\u001b[0;32m--> 591\u001b[0;31m             \u001b[0mself\u001b[0m\u001b[0;34m.\u001b[0m\u001b[0mdraw_sem_seg\u001b[0m\u001b[0;34m(\u001b[0m\u001b[0msem_seg\u001b[0m\u001b[0;34m,\u001b[0m \u001b[0marea_threshold\u001b[0m\u001b[0;34m=\u001b[0m\u001b[0;36m0\u001b[0m\u001b[0;34m,\u001b[0m \u001b[0malpha\u001b[0m\u001b[0;34m=\u001b[0m\u001b[0;36m0.5\u001b[0m\u001b[0;34m)\u001b[0m\u001b[0;34m\u001b[0m\u001b[0;34m\u001b[0m\u001b[0m\n\u001b[0m\u001b[1;32m    592\u001b[0m \u001b[0;34m\u001b[0m\u001b[0m\n\u001b[1;32m    593\u001b[0m         \u001b[0mpan_seg\u001b[0m \u001b[0;34m=\u001b[0m \u001b[0mdic\u001b[0m\u001b[0;34m.\u001b[0m\u001b[0mget\u001b[0m\u001b[0;34m(\u001b[0m\u001b[0;34m\"pan_seg\"\u001b[0m\u001b[0;34m,\u001b[0m \u001b[0;32mNone\u001b[0m\u001b[0;34m)\u001b[0m\u001b[0;34m\u001b[0m\u001b[0;34m\u001b[0m\u001b[0m\n",
      "\u001b[0;32m~/conda/lib/python3.7/site-packages/detectron2/utils/visualizer.py\u001b[0m in \u001b[0;36mdraw_sem_seg\u001b[0;34m(self, sem_seg, area_threshold, alpha)\u001b[0m\n\u001b[1;32m    466\u001b[0m                 \u001b[0mtext\u001b[0m\u001b[0;34m=\u001b[0m\u001b[0mtext\u001b[0m\u001b[0;34m,\u001b[0m\u001b[0;34m\u001b[0m\u001b[0;34m\u001b[0m\u001b[0m\n\u001b[1;32m    467\u001b[0m                 \u001b[0malpha\u001b[0m\u001b[0;34m=\u001b[0m\u001b[0malpha\u001b[0m\u001b[0;34m,\u001b[0m\u001b[0;34m\u001b[0m\u001b[0;34m\u001b[0m\u001b[0m\n\u001b[0;32m--> 468\u001b[0;31m                 \u001b[0marea_threshold\u001b[0m\u001b[0;34m=\u001b[0m\u001b[0marea_threshold\u001b[0m\u001b[0;34m,\u001b[0m\u001b[0;34m\u001b[0m\u001b[0;34m\u001b[0m\u001b[0m\n\u001b[0m\u001b[1;32m    469\u001b[0m             )\n\u001b[1;32m    470\u001b[0m         \u001b[0;32mreturn\u001b[0m \u001b[0mself\u001b[0m\u001b[0;34m.\u001b[0m\u001b[0moutput\u001b[0m\u001b[0;34m\u001b[0m\u001b[0;34m\u001b[0m\u001b[0m\n",
      "\u001b[0;32m~/conda/lib/python3.7/site-packages/detectron2/utils/visualizer.py\u001b[0m in \u001b[0;36mdraw_binary_mask\u001b[0;34m(self, binary_mask, color, edge_color, text, alpha, area_threshold)\u001b[0m\n\u001b[1;32m   1058\u001b[0m         \u001b[0mhas_valid_segment\u001b[0m \u001b[0;34m=\u001b[0m \u001b[0;32mFalse\u001b[0m\u001b[0;34m\u001b[0m\u001b[0;34m\u001b[0m\u001b[0m\n\u001b[1;32m   1059\u001b[0m         \u001b[0mbinary_mask\u001b[0m \u001b[0;34m=\u001b[0m \u001b[0mbinary_mask\u001b[0m\u001b[0;34m.\u001b[0m\u001b[0mastype\u001b[0m\u001b[0;34m(\u001b[0m\u001b[0;34m\"uint8\"\u001b[0m\u001b[0;34m)\u001b[0m  \u001b[0;31m# opencv needs uint8\u001b[0m\u001b[0;34m\u001b[0m\u001b[0;34m\u001b[0m\u001b[0m\n\u001b[0;32m-> 1060\u001b[0;31m         \u001b[0mmask\u001b[0m \u001b[0;34m=\u001b[0m \u001b[0mGenericMask\u001b[0m\u001b[0;34m(\u001b[0m\u001b[0mbinary_mask\u001b[0m\u001b[0;34m,\u001b[0m \u001b[0mself\u001b[0m\u001b[0;34m.\u001b[0m\u001b[0moutput\u001b[0m\u001b[0;34m.\u001b[0m\u001b[0mheight\u001b[0m\u001b[0;34m,\u001b[0m \u001b[0mself\u001b[0m\u001b[0;34m.\u001b[0m\u001b[0moutput\u001b[0m\u001b[0;34m.\u001b[0m\u001b[0mwidth\u001b[0m\u001b[0;34m)\u001b[0m\u001b[0;34m\u001b[0m\u001b[0;34m\u001b[0m\u001b[0m\n\u001b[0m\u001b[1;32m   1061\u001b[0m         \u001b[0mshape2d\u001b[0m \u001b[0;34m=\u001b[0m \u001b[0;34m(\u001b[0m\u001b[0mbinary_mask\u001b[0m\u001b[0;34m.\u001b[0m\u001b[0mshape\u001b[0m\u001b[0;34m[\u001b[0m\u001b[0;36m0\u001b[0m\u001b[0;34m]\u001b[0m\u001b[0;34m,\u001b[0m \u001b[0mbinary_mask\u001b[0m\u001b[0;34m.\u001b[0m\u001b[0mshape\u001b[0m\u001b[0;34m[\u001b[0m\u001b[0;36m1\u001b[0m\u001b[0;34m]\u001b[0m\u001b[0;34m)\u001b[0m\u001b[0;34m\u001b[0m\u001b[0;34m\u001b[0m\u001b[0m\n\u001b[1;32m   1062\u001b[0m \u001b[0;34m\u001b[0m\u001b[0m\n",
      "\u001b[0;32m~/conda/lib/python3.7/site-packages/detectron2/utils/visualizer.py\u001b[0m in \u001b[0;36m__init__\u001b[0;34m(self, mask_or_polygons, height, width)\u001b[0m\n\u001b[1;32m     90\u001b[0m                 \u001b[0mheight\u001b[0m\u001b[0;34m,\u001b[0m\u001b[0;34m\u001b[0m\u001b[0;34m\u001b[0m\u001b[0m\n\u001b[1;32m     91\u001b[0m                 \u001b[0mwidth\u001b[0m\u001b[0;34m,\u001b[0m\u001b[0;34m\u001b[0m\u001b[0;34m\u001b[0m\u001b[0m\n\u001b[0;32m---> 92\u001b[0;31m             ), f\"mask shape: {m.shape}, target dims: {height}, {width}\"\n\u001b[0m\u001b[1;32m     93\u001b[0m             \u001b[0mself\u001b[0m\u001b[0;34m.\u001b[0m\u001b[0m_mask\u001b[0m \u001b[0;34m=\u001b[0m \u001b[0mm\u001b[0m\u001b[0;34m.\u001b[0m\u001b[0mastype\u001b[0m\u001b[0;34m(\u001b[0m\u001b[0;34m\"uint8\"\u001b[0m\u001b[0;34m)\u001b[0m\u001b[0;34m\u001b[0m\u001b[0;34m\u001b[0m\u001b[0m\n\u001b[1;32m     94\u001b[0m             \u001b[0;32mreturn\u001b[0m\u001b[0;34m\u001b[0m\u001b[0;34m\u001b[0m\u001b[0m\n",
      "\u001b[0;31mAssertionError\u001b[0m: mask shape: (1512, 2688, 3), target dims: 1512, 2688"
     ]
    }
   ],
   "source": [
    "for d in random.sample(dataset_dicts, 1):\n",
    "    img = cv2.imread(d[\"file_name\"])\n",
    "    visualizer = Visualizer(img[:, :, ::-1], metadata=metadata, scale=1)\n",
    "    out = visualizer.draw_dataset_dict(d)\n",
    "    #out = visualizer.draw_sem_seg(d)\n",
    "    plt.figure(figsize=(30, 20))\n",
    "    plt.imshow(out.get_image()[:, :, ::-1])\n",
    "    plt.show()"
   ]
  },
  {
   "cell_type": "code",
   "execution_count": null,
   "id": "2862f25c",
   "metadata": {},
   "outputs": [],
   "source": []
  }
 ],
 "metadata": {
  "kernelspec": {
   "display_name": "Python 3 (ipykernel)",
   "language": "python",
   "name": "python3"
  },
  "language_info": {
   "codemirror_mode": {
    "name": "ipython",
    "version": 3
   },
   "file_extension": ".py",
   "mimetype": "text/x-python",
   "name": "python",
   "nbconvert_exporter": "python",
   "pygments_lexer": "ipython3",
   "version": "3.7.10"
  }
 },
 "nbformat": 4,
 "nbformat_minor": 5
}
