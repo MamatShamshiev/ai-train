{
 "cells": [
  {
   "cell_type": "code",
   "execution_count": null,
   "id": "3dc4f939",
   "metadata": {},
   "outputs": [],
   "source": [
    "from pathlib import Path\n",
    "import sys\n",
    "sys.path.append(\"../src\")\n",
    "sys.path.append(\"../src/baseline\")\n",
    "\n",
    "\n",
    "from defs import ROOT, VAL_DATA_PATH, VAL_IMAGES_PATH\n",
    "from inference.submit import prepare_submit\n",
    "from inference.grid_search import run_grid_search\n",
    "from baseline.evaluation.evaluation import calculation_map_050, calculate_meanIOU, competition_metric\n",
    "\n",
    "import warnings\n",
    "warnings.filterwarnings(\"ignore\")"
   ]
  },
  {
   "cell_type": "code",
   "execution_count": null,
   "id": "86654c41",
   "metadata": {},
   "outputs": [],
   "source": [
    "exp_names = [\"cascade-R50-2fc-FrozenBN-bs=6\", \n",
    "             \"yolov5/yolov5m6-2048-bs=16\", \n",
    "            ]\n",
    "exp_dirs = [ROOT / \"outputs\" / exp_name for exp_name in exp_names]"
   ]
  },
  {
   "cell_type": "code",
   "execution_count": null,
   "id": "91ce3617",
   "metadata": {},
   "outputs": [],
   "source": [
    "score_threshes = [0.0001] * len(exp_dirs)\n",
    "nms_threshes = [0.5, 0.6]\n",
    "tta = False\n",
    "ensemble_method = \"wbf\"\n",
    "ensemble_method_kwargs = {\"iou_thr\": 0.6}\n",
    "\n",
    "prepare_submit(VAL_IMAGES_PATH, Path(\".\"), exp_dirs, score_threshes, nms_threshes, tta=tta, ensemble_method=ensemble_method, **ensemble_method_kwargs)\n",
    "competition_metric(str(VAL_DATA_PATH / \"coco.json\"), \"detection_predictions.json\",\n",
    "                   str(VAL_DATA_PATH / \"segmentation_gt.json\"), \"segmentation_predictions.json\")"
   ]
  },
  {
   "cell_type": "markdown",
   "id": "82ffeae2",
   "metadata": {},
   "source": [
    "## Grid search"
   ]
  },
  {
   "cell_type": "code",
   "execution_count": null,
   "id": "d4ccf043",
   "metadata": {},
   "outputs": [],
   "source": [
    "exp_names = [\"yolov5/yolov5m6-2048-bs=16\", \"yolov5/yolov5m6-2560-bs=8\", \"yolov5/yolov5l6-1536-smooth=0.1-bs=16\"]\n",
    "exp_dirs = [ROOT / \"outputs\" / exp_name for exp_name in exp_names]"
   ]
  },
  {
   "cell_type": "code",
   "execution_count": null,
   "id": "f96ed784",
   "metadata": {},
   "outputs": [],
   "source": [
    "score_threshes = [[0.0001] * len(exp_dirs)]\n",
    "nms_threshes = [[0.6, 0.5, 0.5]]\n",
    "\n",
    "ensemble_methods = [\"wbf\"]\n",
    "iou_threshes = [0.6]\n",
    "weights = [[1, 1, 1]]\n",
    "#ensemble_methods_kwargs = [{\"iou_thr\": 0.5, \"weights\": [1, 1, 1, 1]}]\n",
    "ensemble_methods_kwargs = [{\"iou_thr\": iou_thr, \"weights\": w} for iou_thr in iou_threshes for w in weights]\n",
    "metrics = run_grid_search(VAL_IMAGES_PATH, Path(\".\"), exp_dirs, score_threshes, nms_threshes, ensemble_methods, ensemble_methods_kwargs)"
   ]
  }
 ],
 "metadata": {
  "kernelspec": {
   "display_name": "Python 3 (ipykernel)",
   "language": "python",
   "name": "python3"
  },
  "language_info": {
   "codemirror_mode": {
    "name": "ipython",
    "version": 3
   },
   "file_extension": ".py",
   "mimetype": "text/x-python",
   "name": "python",
   "nbconvert_exporter": "python",
   "pygments_lexer": "ipython3",
   "version": "3.7.10"
  }
 },
 "nbformat": 4,
 "nbformat_minor": 5
}
