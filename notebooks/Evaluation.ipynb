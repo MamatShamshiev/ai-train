{
 "cells": [
  {
   "cell_type": "code",
   "execution_count": 1,
   "id": "cdcbc21f",
   "metadata": {},
   "outputs": [],
   "source": [
    "from pathlib import Path\n",
    "import sys\n",
    "sys.path.append(\"../src\")\n",
    "sys.path.append(\"../src/baseline\")\n",
    "\n",
    "\n",
    "from defs import ROOT, VAL_DATA_PATH, VAL_IMAGES_PATH\n",
    "from inference.submit import prepare_submit\n",
    "from inference.grid_search import run_grid_search\n",
    "from baseline.evaluation.evaluation import calculation_map_050, calculate_meanIOU, competition_metric\n",
    "\n",
    "import warnings\n",
    "warnings.filterwarnings(\"ignore\")"
   ]
  },
  {
   "cell_type": "code",
   "execution_count": 2,
   "id": "043b6b65",
   "metadata": {},
   "outputs": [],
   "source": [
    "exp_names = [\"cascade-R50-2fc-FrozenBN-bs=6\", \n",
    "             \"yolov5/yolov5m6-2048-bs=16\", \n",
    "            ]\n",
    "exp_dirs = [ROOT / \"outputs\" / exp_name for exp_name in exp_names]"
   ]
  },
  {
   "cell_type": "code",
   "execution_count": 3,
   "id": "0030921d",
   "metadata": {},
   "outputs": [
    {
     "name": "stderr",
     "output_type": "stream",
     "text": [
      "PANOPTIC_FPN.COMBINED.ENABLED is no longer used.  model.inference(do_postprocess=) should be used to toggle postprocessing.\n",
      "100%|██████████| 411/411 [04:21<00:00,  1.57it/s]\n",
      "segmentation submit preparation: 100%|██████████| 411/411 [00:00<00:00, 168082.97it/s]\n"
     ]
    },
    {
     "name": "stdout",
     "output_type": "stream",
     "text": [
      "loading annotations into memory...\n",
      "Done (t=0.01s)\n",
      "creating index...\n",
      "index created!\n",
      "Loading and preparing results...\n",
      "DONE (t=0.73s)\n",
      "creating index...\n",
      "index created!\n",
      "Running per image evaluation...\n",
      "Evaluate annotation type *bbox*\n",
      "DONE (t=7.98s).\n",
      "Accumulating evaluation results...\n",
      "DONE (t=1.39s).\n",
      " Average Precision  (AP) @[ IoU=0.50:0.95 | area=   all | maxDets=100 ] = 0.251\n",
      " Average Precision  (AP) @[ IoU=0.50      | area=   all | maxDets=100 ] = 0.540\n",
      " Average Precision  (AP) @[ IoU=0.75      | area=   all | maxDets=100 ] = 0.193\n",
      " Average Precision  (AP) @[ IoU=0.50:0.95 | area= small | maxDets=100 ] = 0.182\n",
      " Average Precision  (AP) @[ IoU=0.50:0.95 | area=medium | maxDets=100 ] = 0.297\n",
      " Average Precision  (AP) @[ IoU=0.50:0.95 | area= large | maxDets=100 ] = 0.337\n",
      " Average Recall     (AR) @[ IoU=0.50:0.95 | area=   all | maxDets=  1 ] = 0.224\n",
      " Average Recall     (AR) @[ IoU=0.50:0.95 | area=   all | maxDets= 10 ] = 0.454\n",
      " Average Recall     (AR) @[ IoU=0.50:0.95 | area=   all | maxDets=100 ] = 0.508\n",
      " Average Recall     (AR) @[ IoU=0.50:0.95 | area= small | maxDets=100 ] = 0.469\n",
      " Average Recall     (AR) @[ IoU=0.50:0.95 | area=medium | maxDets=100 ] = 0.534\n",
      " Average Recall     (AR) @[ IoU=0.50:0.95 | area= large | maxDets=100 ] = 0.512\n"
     ]
    },
    {
     "name": "stderr",
     "output_type": "stream",
     "text": [
      "100%|██████████| 411/411 [00:25<00:00, 16.07it/s]"
     ]
    },
    {
     "name": "stdout",
     "output_type": "stream",
     "text": [
      "Detection: 0.5399074494048122\n",
      "Segmentation: 0.8626416379871471\n"
     ]
    },
    {
     "name": "stderr",
     "output_type": "stream",
     "text": [
      "\n"
     ]
    },
    {
     "data": {
      "text/plain": [
       "0.63673"
      ]
     },
     "execution_count": 3,
     "metadata": {},
     "output_type": "execute_result"
    }
   ],
   "source": [
    "score_threshes = [0.0001] * len(exp_dirs)\n",
    "nms_threshes = [0.5, 0.6]\n",
    "tta = False\n",
    "ensemble_method = \"wbf\"\n",
    "ensemble_method_kwargs = {\"iou_thr\": 0.6, \"normalize_scores\": True}\n",
    "\n",
    "prepare_submit(VAL_IMAGES_PATH, Path(\".\"), exp_dirs, score_threshes, nms_threshes, tta=tta, ensemble_method=ensemble_method, **ensemble_method_kwargs)\n",
    "competition_metric(str(VAL_DATA_PATH / \"coco.json\"), \"detection_predictions.json\",\n",
    "                   str(VAL_DATA_PATH / \"segmentation_gt.json\"), \"segmentation_predictions.json\")"
   ]
  },
  {
   "cell_type": "markdown",
   "id": "215247fe",
   "metadata": {},
   "source": [
    "## Grid search"
   ]
  },
  {
   "cell_type": "code",
   "execution_count": 9,
   "id": "d35f24fd",
   "metadata": {},
   "outputs": [],
   "source": [
    "exp_names = [\"yolov5/yolov5m6-2048-bs=16\", \"yolov5/yolov5m6-2560-bs=8\", \"yolov5/yolov5l6-1536-smooth=0.1-bs=16\"]\n",
    "exp_dirs = [ROOT / \"outputs\" / exp_name for exp_name in exp_names]"
   ]
  },
  {
   "cell_type": "code",
   "execution_count": 12,
   "id": "808b4c2c",
   "metadata": {},
   "outputs": [
    {
     "name": "stderr",
     "output_type": "stream",
     "text": [
      "100%|██████████| 411/411 [08:13<00:00,  1.20s/it]\n"
     ]
    },
    {
     "name": "stdout",
     "output_type": "stream",
     "text": [
      "loading annotations into memory...\n",
      "Done (t=0.01s)\n",
      "creating index...\n",
      "index created!\n",
      "Loading and preparing results...\n",
      "DONE (t=0.91s)\n",
      "creating index...\n",
      "index created!\n",
      "Running per image evaluation...\n",
      "Evaluate annotation type *bbox*\n",
      "DONE (t=9.34s).\n",
      "Accumulating evaluation results...\n",
      "DONE (t=1.29s).\n",
      " Average Precision  (AP) @[ IoU=0.50:0.95 | area=   all | maxDets=100 ] = 0.343\n",
      " Average Precision  (AP) @[ IoU=0.50      | area=   all | maxDets=100 ] = 0.647\n",
      " Average Precision  (AP) @[ IoU=0.75      | area=   all | maxDets=100 ] = 0.300\n",
      " Average Precision  (AP) @[ IoU=0.50:0.95 | area= small | maxDets=100 ] = 0.281\n",
      " Average Precision  (AP) @[ IoU=0.50:0.95 | area=medium | maxDets=100 ] = 0.383\n",
      " Average Precision  (AP) @[ IoU=0.50:0.95 | area= large | maxDets=100 ] = 0.437\n",
      " Average Recall     (AR) @[ IoU=0.50:0.95 | area=   all | maxDets=  1 ] = 0.261\n",
      " Average Recall     (AR) @[ IoU=0.50:0.95 | area=   all | maxDets= 10 ] = 0.492\n",
      " Average Recall     (AR) @[ IoU=0.50:0.95 | area=   all | maxDets=100 ] = 0.535\n",
      " Average Recall     (AR) @[ IoU=0.50:0.95 | area= small | maxDets=100 ] = 0.469\n",
      " Average Recall     (AR) @[ IoU=0.50:0.95 | area=medium | maxDets=100 ] = 0.564\n",
      " Average Recall     (AR) @[ IoU=0.50:0.95 | area= large | maxDets=100 ] = 0.569\n",
      "______________________________\n",
      "[0.0001, 0.0001, 0.0001] [0.6, 0.5, 0.5] wbf {'iou_thr': 0.6, 'weights': [1, 1, 1]}\n",
      "0.6471669313001869\n",
      "______________________________\n"
     ]
    }
   ],
   "source": [
    "score_threshes = [[0.0001] * len(exp_dirs)]\n",
    "nms_threshes = [[0.6, 0.5, 0.5]]\n",
    "\n",
    "ensemble_methods = [\"wbf\"]\n",
    "iou_threshes = [0.6]\n",
    "weights = [[1, 1, 1]]\n",
    "#ensemble_methods_kwargs = [{\"iou_thr\": 0.5, \"weights\": [1, 1, 1, 1]}]\n",
    "ensemble_methods_kwargs = [{\"iou_thr\": iou_thr, \"weights\": w} for iou_thr in iou_threshes for w in weights]\n",
    "metrics = run_grid_search(VAL_IMAGES_PATH, Path(\".\"), exp_dirs, score_threshes, nms_threshes, ensemble_methods, ensemble_methods_kwargs)"
   ]
  },
  {
   "cell_type": "code",
   "execution_count": null,
   "id": "b94d2f92",
   "metadata": {},
   "outputs": [],
   "source": []
  }
 ],
 "metadata": {
  "kernelspec": {
   "display_name": "Python 3 (ipykernel)",
   "language": "python",
   "name": "python3"
  },
  "language_info": {
   "codemirror_mode": {
    "name": "ipython",
    "version": 3
   },
   "file_extension": ".py",
   "mimetype": "text/x-python",
   "name": "python",
   "nbconvert_exporter": "python",
   "pygments_lexer": "ipython3",
   "version": "3.7.10"
  }
 },
 "nbformat": 4,
 "nbformat_minor": 5
}
